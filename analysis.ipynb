{
 "cells": [
  {
   "metadata": {},
   "cell_type": "markdown",
   "source": [
    "# Healthcare Data Breach Analysis (2009-2019)\n",
    "\n",
    "**Author:** Paulo Cauca  \n",
    "**Country:** United States\n",
    "\n",
    "---\n",
    "\n",
    "## Objective\n",
    "\n",
    "The objective of this study is to conduct a detailed analysis of healthcare data breaches in the United States from 2009 to 2019. This study aims to identify patterns, trends, and main causes of these breaches, providing valuable insights for implementing better information security practices in the healthcare sector.\n",
    "\n",
    "---\n",
    "\n",
    "## Executive Summary\n",
    "\n",
    "In this study, we analyze data breaches in the healthcare sector in the United States during the period from 2009 to 2019. Through this analysis, we aim to identify the main trends and causes of these breaches, as well as their implications for the healthcare sector.\n",
    "\n",
    "## Methodology\n",
    "\n",
    "We used public data provided by the United States Department of Health and Human Services. The analysis includes categorizing the breaches by type, impact, and year, as well as identifying patterns and trends over the studied period.\n",
    "\n",
    "## Results and Discussion\n",
    "\n",
    "In this section, we will present the results obtained from the data analysis, including graphs, tables, and discussions on the main findings. Aspects such as the increase or decrease in breaches over the years, the most common types of breaches, and their main causes will be addressed.\n",
    "\n",
    "## Conclusions\n",
    "\n",
    "Based on the results obtained, the study's conclusions will highlight the main findings and their implications for the healthcare sector. Recommendations will be suggested to improve information security in healthcare organizations based on the observed trends.\n",
    "\n",
    "---\n",
    "\n",
    "# Análise de Violação de Dados na Área de Saúde (2009-2019)\n",
    "\n",
    "**Autor:** Paulo Cauca  \n",
    "**País:** Estados Unidos\n",
    "\n",
    "---\n",
    "\n",
    "## Objetivo\n",
    "\n",
    "O objetivo deste estudo é realizar uma análise detalhada das violações de dados na área de saúde ocorridas nos Estados Unidos entre 2009 e 2019. Este estudo visa identificar padrões, tendências e principais causas dessas violações, com o intuito de fornecer insights valiosos para a implementação de melhores práticas de segurança da informação no setor de saúde.\n",
    "\n",
    "---\n",
    "\n",
    "## Resumo Executivo\n",
    "\n",
    "Neste estudo, analisamos os dados de violações de dados na área de saúde nos Estados Unidos durante o período de 2009 a 2019. Através desta análise, buscamos identificar as principais tendências e causas dessas violações, bem como suas implicações para o setor de saúde.\n",
    "\n",
    "## Metodologia\n",
    "\n",
    "Utilizamos dados públicos disponibilizados pelo Departamento de Saúde e Serviços Humanos dos Estados Unidos. A análise inclui a categorização das violações por tipo, impacto e ano, bem como a identificação de padrões e tendências ao longo do período estudado.\n",
    "\n",
    "## Resultados e Discussão\n",
    "\n",
    "Nesta seção, apresentaremos os resultados obtidos com a análise dos dados, incluindo gráficos, tabelas e discussões sobre as principais descobertas. Serão abordados aspectos como o aumento ou diminuição das violações ao longo dos anos, os tipos de violações mais comuns e as suas principais causas.\n",
    "\n",
    "## Conclusões\n",
    "\n",
    "A partir dos resultados obtidos, serão apresentadas as conclusões do estudo, destacando os principais achados e suas implicações para o setor de saúde. Serão sugeridas recomendações para melhorar a segurança da informação nas organizações de saúde com base nas tendências observadas.\n",
    "\n",
    "---\n",
    "\n",
    "## Data and Resources / Dados e Recursos\n",
    "\n",
    "- **Source of Data / Fonte de Dados:** United States Department of Health and Human Services / Departamento de Saúde e Serviços Humanos dos Estados Unidos\n",
    "- **Period / Período:** 2009 to 2019 / 2009 a 2019\n",
    "- **Tools Used / Ferramentas Utilizadas:** Python, Pandas, Matplotlib, Seaborn\n",
    "\n",
    "## Contact / Contato\n",
    "\n",
    "For more information, contact Paulo Cauca via email: [contato@paulocauca.com](mailto:contato@paulocauca.com)  \n",
    "Para mais informações, entre em contato com Paulo Cauca via email: [contato@paulocauca.com](mailto:contato@paulocauca.com)\n",
    "\n",
    "---\n",
    "\n",
    "**Note / Nota:** This study is for informational purposes and aims to contribute to improving information security in the healthcare sector. The data used are public domain and have been analyzed with the highest technical and scientific rigor.  \n",
    "**Nota:** Este estudo é de caráter informativo e visa contribuir para a melhoria da segurança da informação no setor de saúde. Os dados utilizados são de domínio público e foram analisados com o máximo de rigor técnico e científico.\n"
   ],
   "id": "9b304e50e44aaa9c"
  },
  {
   "metadata": {},
   "cell_type": "markdown",
   "source": "# Let's import the dataset and see inconsistencies on dataframe ",
   "id": "5787932e8028428c"
  },
  {
   "metadata": {},
   "cell_type": "markdown",
   "source": "#### Import tools to work",
   "id": "d39c1e4e838434dc"
  },
  {
   "cell_type": "code",
   "id": "initial_id",
   "metadata": {
    "collapsed": true,
    "ExecuteTime": {
     "end_time": "2024-07-07T01:21:24.411690Z",
     "start_time": "2024-07-07T01:21:24.408689Z"
    }
   },
   "source": [
    "import pandas as pd\n",
    "import numpy as np\n",
    "import matplotlib.pyplot as plt\n",
    "import seaborn as sns"
   ],
   "outputs": [],
   "execution_count": 2
  },
  {
   "metadata": {},
   "cell_type": "markdown",
   "source": "#### Import the dataset and create a dataframe \n",
   "id": "dac19cc79e401802"
  },
  {
   "metadata": {
    "ExecuteTime": {
     "end_time": "2024-07-07T01:22:17.174762Z",
     "start_time": "2024-07-07T01:22:17.124979Z"
    }
   },
   "cell_type": "code",
   "source": [
    "df = pd.read_csv('files/data_breaches.csv')\n",
    "df.head(n=10)"
   ],
   "id": "7b0f6e383e99f889",
   "outputs": [
    {
     "data": {
      "text/plain": [
       "                              Name of Covered Entity State  \\\n",
       "0    Ijaola, LLC d/b/a Mercy Grace Private Practice     AZ   \n",
       "1  Queen Creek Medical Center d/b/a Desert Wells ...    AZ   \n",
       "2    Easterseals Delaware & Maryland's Eastern Shore    DE   \n",
       "3                        DuPage Medical Group, Ltd.     IL   \n",
       "4                                      CareATC, Inc.    OK   \n",
       "5                                    Beaumont Health    MI   \n",
       "6                 Family Medical Center of Michigan     MI   \n",
       "7                        Medical Business Management    AL   \n",
       "8                              LifeLong Medical Care    CA   \n",
       "9                        San Andreas Regional Center    CA   \n",
       "\n",
       "   Covered Entity Type  Individuals Affected Breach Submission Date  \\\n",
       "0  Healthcare Provider                4450.0              8/30/2021   \n",
       "1  Healthcare Provider               35000.0              8/30/2021   \n",
       "2  Healthcare Provider                 501.0              8/30/2021   \n",
       "3  Healthcare Provider              655384.0              8/30/2021   \n",
       "4  Healthcare Provider               98774.0              8/27/2021   \n",
       "5  Healthcare Provider                1568.0              8/27/2021   \n",
       "6  Healthcare Provider               21988.0              8/26/2021   \n",
       "7   Business Associate                1750.0              8/25/2021   \n",
       "8  Healthcare Provider              115448.0              8/25/2021   \n",
       "9   Business Associate               57244.0              8/25/2021   \n",
       "\n",
       "        Type of Breach Location of Breached Information  \\\n",
       "0  Hacking/IT Incident                            Email   \n",
       "1  Hacking/IT Incident                   Network Server   \n",
       "2  Hacking/IT Incident                            Email   \n",
       "3  Hacking/IT Incident                   Network Server   \n",
       "4  Hacking/IT Incident                            Email   \n",
       "5  Hacking/IT Incident                   Network Server   \n",
       "6  Hacking/IT Incident                   Network Server   \n",
       "7  Hacking/IT Incident                   Network Server   \n",
       "8  Hacking/IT Incident                   Network Server   \n",
       "9  Hacking/IT Incident                   Network Server   \n",
       "\n",
       "  Business Associate Present Web Description  \n",
       "0                         No             NaN  \n",
       "1                         No             NaN  \n",
       "2                         No             NaN  \n",
       "3                         No             NaN  \n",
       "4                         No             NaN  \n",
       "5                        Yes             NaN  \n",
       "6                         No             NaN  \n",
       "7                        Yes             NaN  \n",
       "8                        Yes             NaN  \n",
       "9                        Yes             NaN  "
      ],
      "text/html": [
       "<div>\n",
       "<style scoped>\n",
       "    .dataframe tbody tr th:only-of-type {\n",
       "        vertical-align: middle;\n",
       "    }\n",
       "\n",
       "    .dataframe tbody tr th {\n",
       "        vertical-align: top;\n",
       "    }\n",
       "\n",
       "    .dataframe thead th {\n",
       "        text-align: right;\n",
       "    }\n",
       "</style>\n",
       "<table border=\"1\" class=\"dataframe\">\n",
       "  <thead>\n",
       "    <tr style=\"text-align: right;\">\n",
       "      <th></th>\n",
       "      <th>Name of Covered Entity</th>\n",
       "      <th>State</th>\n",
       "      <th>Covered Entity Type</th>\n",
       "      <th>Individuals Affected</th>\n",
       "      <th>Breach Submission Date</th>\n",
       "      <th>Type of Breach</th>\n",
       "      <th>Location of Breached Information</th>\n",
       "      <th>Business Associate Present</th>\n",
       "      <th>Web Description</th>\n",
       "    </tr>\n",
       "  </thead>\n",
       "  <tbody>\n",
       "    <tr>\n",
       "      <th>0</th>\n",
       "      <td>Ijaola, LLC d/b/a Mercy Grace Private Practice</td>\n",
       "      <td>AZ</td>\n",
       "      <td>Healthcare Provider</td>\n",
       "      <td>4450.0</td>\n",
       "      <td>8/30/2021</td>\n",
       "      <td>Hacking/IT Incident</td>\n",
       "      <td>Email</td>\n",
       "      <td>No</td>\n",
       "      <td>NaN</td>\n",
       "    </tr>\n",
       "    <tr>\n",
       "      <th>1</th>\n",
       "      <td>Queen Creek Medical Center d/b/a Desert Wells ...</td>\n",
       "      <td>AZ</td>\n",
       "      <td>Healthcare Provider</td>\n",
       "      <td>35000.0</td>\n",
       "      <td>8/30/2021</td>\n",
       "      <td>Hacking/IT Incident</td>\n",
       "      <td>Network Server</td>\n",
       "      <td>No</td>\n",
       "      <td>NaN</td>\n",
       "    </tr>\n",
       "    <tr>\n",
       "      <th>2</th>\n",
       "      <td>Easterseals Delaware &amp; Maryland's Eastern Shore</td>\n",
       "      <td>DE</td>\n",
       "      <td>Healthcare Provider</td>\n",
       "      <td>501.0</td>\n",
       "      <td>8/30/2021</td>\n",
       "      <td>Hacking/IT Incident</td>\n",
       "      <td>Email</td>\n",
       "      <td>No</td>\n",
       "      <td>NaN</td>\n",
       "    </tr>\n",
       "    <tr>\n",
       "      <th>3</th>\n",
       "      <td>DuPage Medical Group, Ltd.</td>\n",
       "      <td>IL</td>\n",
       "      <td>Healthcare Provider</td>\n",
       "      <td>655384.0</td>\n",
       "      <td>8/30/2021</td>\n",
       "      <td>Hacking/IT Incident</td>\n",
       "      <td>Network Server</td>\n",
       "      <td>No</td>\n",
       "      <td>NaN</td>\n",
       "    </tr>\n",
       "    <tr>\n",
       "      <th>4</th>\n",
       "      <td>CareATC, Inc.</td>\n",
       "      <td>OK</td>\n",
       "      <td>Healthcare Provider</td>\n",
       "      <td>98774.0</td>\n",
       "      <td>8/27/2021</td>\n",
       "      <td>Hacking/IT Incident</td>\n",
       "      <td>Email</td>\n",
       "      <td>No</td>\n",
       "      <td>NaN</td>\n",
       "    </tr>\n",
       "    <tr>\n",
       "      <th>5</th>\n",
       "      <td>Beaumont Health</td>\n",
       "      <td>MI</td>\n",
       "      <td>Healthcare Provider</td>\n",
       "      <td>1568.0</td>\n",
       "      <td>8/27/2021</td>\n",
       "      <td>Hacking/IT Incident</td>\n",
       "      <td>Network Server</td>\n",
       "      <td>Yes</td>\n",
       "      <td>NaN</td>\n",
       "    </tr>\n",
       "    <tr>\n",
       "      <th>6</th>\n",
       "      <td>Family Medical Center of Michigan</td>\n",
       "      <td>MI</td>\n",
       "      <td>Healthcare Provider</td>\n",
       "      <td>21988.0</td>\n",
       "      <td>8/26/2021</td>\n",
       "      <td>Hacking/IT Incident</td>\n",
       "      <td>Network Server</td>\n",
       "      <td>No</td>\n",
       "      <td>NaN</td>\n",
       "    </tr>\n",
       "    <tr>\n",
       "      <th>7</th>\n",
       "      <td>Medical Business Management</td>\n",
       "      <td>AL</td>\n",
       "      <td>Business Associate</td>\n",
       "      <td>1750.0</td>\n",
       "      <td>8/25/2021</td>\n",
       "      <td>Hacking/IT Incident</td>\n",
       "      <td>Network Server</td>\n",
       "      <td>Yes</td>\n",
       "      <td>NaN</td>\n",
       "    </tr>\n",
       "    <tr>\n",
       "      <th>8</th>\n",
       "      <td>LifeLong Medical Care</td>\n",
       "      <td>CA</td>\n",
       "      <td>Healthcare Provider</td>\n",
       "      <td>115448.0</td>\n",
       "      <td>8/25/2021</td>\n",
       "      <td>Hacking/IT Incident</td>\n",
       "      <td>Network Server</td>\n",
       "      <td>Yes</td>\n",
       "      <td>NaN</td>\n",
       "    </tr>\n",
       "    <tr>\n",
       "      <th>9</th>\n",
       "      <td>San Andreas Regional Center</td>\n",
       "      <td>CA</td>\n",
       "      <td>Business Associate</td>\n",
       "      <td>57244.0</td>\n",
       "      <td>8/25/2021</td>\n",
       "      <td>Hacking/IT Incident</td>\n",
       "      <td>Network Server</td>\n",
       "      <td>Yes</td>\n",
       "      <td>NaN</td>\n",
       "    </tr>\n",
       "  </tbody>\n",
       "</table>\n",
       "</div>"
      ]
     },
     "execution_count": 4,
     "metadata": {},
     "output_type": "execute_result"
    }
   ],
   "execution_count": 4
  },
  {
   "metadata": {},
   "cell_type": "markdown",
   "source": "#### Checking variables type ",
   "id": "fad7b6b9c4b39550"
  },
  {
   "metadata": {
    "ExecuteTime": {
     "end_time": "2024-07-07T01:32:01.470669Z",
     "start_time": "2024-07-07T01:32:01.461669Z"
    }
   },
   "cell_type": "code",
   "source": "df.info()",
   "id": "722f76d817f78c62",
   "outputs": [
    {
     "name": "stdout",
     "output_type": "stream",
     "text": [
      "<class 'pandas.core.frame.DataFrame'>\n",
      "RangeIndex: 4201 entries, 0 to 4200\n",
      "Data columns (total 9 columns):\n",
      " #   Column                            Non-Null Count  Dtype  \n",
      "---  ------                            --------------  -----  \n",
      " 0   Name of Covered Entity            4201 non-null   object \n",
      " 1   State                             4201 non-null   object \n",
      " 2   Covered Entity Type               4201 non-null   object \n",
      " 3   Individuals Affected              4200 non-null   float64\n",
      " 4   Breach Submission Date            4201 non-null   object \n",
      " 5   Type of Breach                    4201 non-null   object \n",
      " 6   Location of Breached Information  4201 non-null   object \n",
      " 7   Business Associate Present        4201 non-null   object \n",
      " 8   Web Description                   3127 non-null   object \n",
      "dtypes: float64(1), object(8)\n",
      "memory usage: 295.5+ KB\n"
     ]
    }
   ],
   "execution_count": 17
  },
  {
   "metadata": {},
   "cell_type": "markdown",
   "source": "#### Transforming column \"Breach Submission Date\" in datetime type ",
   "id": "29cc59979347316c"
  },
  {
   "metadata": {
    "ExecuteTime": {
     "end_time": "2024-07-07T01:33:02.439880Z",
     "start_time": "2024-07-07T01:33:02.424651Z"
    }
   },
   "cell_type": "code",
   "source": [
    "df[\"Breach Submission Date\"] = pd.to_datetime(df[\"Breach Submission Date\"])\n",
    "df.info()"
   ],
   "id": "eaf2ed56c01a5b84",
   "outputs": [
    {
     "name": "stdout",
     "output_type": "stream",
     "text": [
      "<class 'pandas.core.frame.DataFrame'>\n",
      "RangeIndex: 4201 entries, 0 to 4200\n",
      "Data columns (total 9 columns):\n",
      " #   Column                            Non-Null Count  Dtype         \n",
      "---  ------                            --------------  -----         \n",
      " 0   Name of Covered Entity            4201 non-null   object        \n",
      " 1   State                             4201 non-null   object        \n",
      " 2   Covered Entity Type               4201 non-null   object        \n",
      " 3   Individuals Affected              4200 non-null   float64       \n",
      " 4   Breach Submission Date            4201 non-null   datetime64[ns]\n",
      " 5   Type of Breach                    4201 non-null   object        \n",
      " 6   Location of Breached Information  4201 non-null   object        \n",
      " 7   Business Associate Present        4201 non-null   object        \n",
      " 8   Web Description                   3127 non-null   object        \n",
      "dtypes: datetime64[ns](1), float64(1), object(7)\n",
      "memory usage: 295.5+ KB\n"
     ]
    }
   ],
   "execution_count": 19
  },
  {
   "metadata": {},
   "cell_type": "markdown",
   "source": "#### Check null values ",
   "id": "ad3c0592b5ac29bc"
  },
  {
   "metadata": {
    "ExecuteTime": {
     "end_time": "2024-07-07T01:56:00.400702Z",
     "start_time": "2024-07-07T01:56:00.392807Z"
    }
   },
   "cell_type": "code",
   "source": "df.isnull().sum()",
   "id": "75a802f262915e4",
   "outputs": [
    {
     "data": {
      "text/plain": [
       "Name of Covered Entity                 0\n",
       "State                                  0\n",
       "Covered Entity Type                    0\n",
       "Individuals Affected                   0\n",
       "Breach Submission Date                 0\n",
       "Type of Breach                         0\n",
       "Location of Breached Information       0\n",
       "Business Associate Present             0\n",
       "Web Description                     1074\n",
       "dtype: int64"
      ]
     },
     "execution_count": 46,
     "metadata": {},
     "output_type": "execute_result"
    }
   ],
   "execution_count": 46
  },
  {
   "metadata": {},
   "cell_type": "markdown",
   "source": "#### Deleted null values from column Individuals Affected : 1 row affected ",
   "id": "27f3551ed0fe9fca"
  },
  {
   "metadata": {
    "ExecuteTime": {
     "end_time": "2024-07-07T01:56:25.766856Z",
     "start_time": "2024-07-07T01:56:25.761510Z"
    }
   },
   "cell_type": "code",
   "source": "df.dropna(subset=[\"Individuals Affected\"], inplace=True)",
   "id": "46d0da0dc35669c0",
   "outputs": [],
   "execution_count": 47
  },
  {
   "metadata": {
    "ExecuteTime": {
     "end_time": "2024-07-07T01:56:27.951980Z",
     "start_time": "2024-07-07T01:56:27.943516Z"
    }
   },
   "cell_type": "code",
   "source": "df.isnull().sum()",
   "id": "4c262216667626b2",
   "outputs": [
    {
     "data": {
      "text/plain": [
       "Name of Covered Entity                 0\n",
       "State                                  0\n",
       "Covered Entity Type                    0\n",
       "Individuals Affected                   0\n",
       "Breach Submission Date                 0\n",
       "Type of Breach                         0\n",
       "Location of Breached Information       0\n",
       "Business Associate Present             0\n",
       "Web Description                     1074\n",
       "dtype: int64"
      ]
     },
     "execution_count": 48,
     "metadata": {},
     "output_type": "execute_result"
    }
   ],
   "execution_count": 48
  },
  {
   "metadata": {},
   "cell_type": "markdown",
   "source": "#### Check quantity dataset rows, if you see a column \"Web Description\" has null values , but it's not important to us right now.",
   "id": "5163251f100f9973"
  },
  {
   "metadata": {
    "ExecuteTime": {
     "end_time": "2024-07-07T01:48:39.142811Z",
     "start_time": "2024-07-07T01:48:39.134864Z"
    }
   },
   "cell_type": "code",
   "source": "df.count()",
   "id": "bdb360096f5c5382",
   "outputs": [
    {
     "data": {
      "text/plain": [
       "Name of Covered Entity              4200\n",
       "State                               4200\n",
       "Covered Entity Type                 4200\n",
       "Individuals Affected                4200\n",
       "Breach Submission Date              4200\n",
       "Type of Breach                      4200\n",
       "Location of Breached Information    4200\n",
       "Business Associate Present          4200\n",
       "Web Description                     3126\n",
       "dtype: int64"
      ]
     },
     "execution_count": 36,
     "metadata": {},
     "output_type": "execute_result"
    }
   ],
   "execution_count": 36
  },
  {
   "metadata": {},
   "cell_type": "markdown",
   "source": "#### OK, now we are ready to go :-)  ",
   "id": "1a3f574a645682f8"
  },
  {
   "metadata": {},
   "cell_type": "markdown",
   "source": "# Let's plot some graphics and see how the values is distributed  ",
   "id": "7d6103954262bc3"
  },
  {
   "metadata": {
    "ExecuteTime": {
     "end_time": "2024-07-07T01:50:51.114965Z",
     "start_time": "2024-07-07T01:50:50.284861Z"
    }
   },
   "cell_type": "code",
   "source": [
    "\n",
    "df.plot.hist()"
   ],
   "id": "7b390faebbc2fa59",
   "outputs": [
    {
     "data": {
      "text/plain": [
       "<Axes: ylabel='Frequency'>"
      ]
     },
     "execution_count": 43,
     "metadata": {},
     "output_type": "execute_result"
    },
    {
     "data": {
      "text/plain": [
       "<Figure size 640x480 with 1 Axes>"
      ],
      "image/png": "[encoded data removed]"
     },
     "metadata": {},
     "output_type": "display_data"
    }
   ],
   "execution_count": 43
  }
 ],
 "metadata": {
  "kernelspec": {
   "display_name": "Python 3",
   "language": "python",
   "name": "python3"
  },
  "language_info": {
   "codemirror_mode": {
    "name": "ipython",
    "version": 2
   },
   "file_extension": ".py",
   "mimetype": "text/x-python",
   "name": "python",
   "nbconvert_exporter": "python",
   "pygments_lexer": "ipython2",
   "version": "2.7.6"
  }
 },
 "nbformat": 4,
 "nbformat_minor": 5
}
